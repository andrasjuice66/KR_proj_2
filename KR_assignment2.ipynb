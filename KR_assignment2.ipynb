{
 "cells": [
  {
   "cell_type": "code",
   "execution_count": 6,
   "id": "90b9e933",
   "metadata": {},
   "outputs": [],
   "source": [
    "import json\n",
    "import random"
   ]
  },
  {
   "cell_type": "code",
   "execution_count": 11,
   "id": "1f2f32aa",
   "metadata": {},
   "outputs": [],
   "source": [
    "# function loading json file\n",
    "def load_data(filepath):\n",
    "    with open(filepath, 'r') as file:\n",
    "        return json.load(file)\n",
    "    \n",
    "# function to identify possible answers for the opponent\n",
    "def find_opponent_arguments(attacks, proponent_args, opponent_answers):\n",
    "    return {str(attack[0]): arguments[str(attack[0])] \n",
    "            for attack in attacks \n",
    "            if str(attack[1]) in proponent_args and str(attack[0]) not in opponent_answers}\n",
    "\n",
    "# function to print out the possible answers for the opponent\n",
    "def print_dic(dic):\n",
    "    print(\"\\n\")\n",
    "    for key, value in dic.items():\n",
    "        print(key, value)\n",
    "\n",
    "# function to play the game\n",
    "def play_game(arguments, attacks_relations):\n",
    "    proponent_args = {}\n",
    "    opponent_answers = {}\n",
    "\n",
    "    # start with a random argument for the proponent\n",
    "    proponent_arg = str(random.choice(list([0,1])))\n",
    "    proponent_args[proponent_arg] = arguments[proponent_arg]\n",
    "\n",
    "    # playing the game till someone wins\n",
    "    while True:\n",
    "        opponent_args = find_opponent_arguments(attacks_relations, proponent_args, opponent_answers)\n",
    "\n",
    "        if proponent_arg in opponent_answers:\n",
    "            print(\"I used an argument that you used before. Congratulations, you won.\")\n",
    "            break\n",
    "        elif not opponent_args:\n",
    "            print(\"Unfortunately, you don't have any arguments left. Therefore, you lost.\")\n",
    "            break\n",
    "\n",
    "        print_dic(opponent_args)\n",
    "        opponent_answer = input(f\"\\nI chose \\\"{arguments[proponent_arg]}\\\". Choose one of the above arguments by entering its number: \")\n",
    "        opponent_answers[opponent_answer] = arguments[opponent_answer]\n",
    "\n",
    "        for attack in attacks_relations:\n",
    "            if str(attack[1]) == opponent_answer and str(attack[0]) not in opponent_answers:\n",
    "                proponent_arg = str(attack[0])\n",
    "                proponent_args[proponent_arg] = arguments[proponent_arg]\n",
    "                break\n",
    "        else:\n",
    "            print(\"I don't have any arguments against that. Congratulations, you won.\")\n",
    "            break"
   ]
  },
  {
   "cell_type": "code",
   "execution_count": null,
   "id": "9a4d5eb0",
   "metadata": {},
   "outputs": [],
   "source": [
    "data = load_data(\"example-argumentation-framework.json\")\n",
    "arguments = data[\"Arguments\"]\n",
    "attacks_relations = data[\"Attack Relations\"]\n",
    "\n",
    "play_game(arguments, attacks_relations)"
   ]
  }
 ],
 "metadata": {
  "kernelspec": {
   "display_name": "Python 3 (ipykernel)",
   "language": "python",
   "name": "python3"
  },
  "language_info": {
   "codemirror_mode": {
    "name": "ipython",
    "version": 3
   },
   "file_extension": ".py",
   "mimetype": "text/x-python",
   "name": "python",
   "nbconvert_exporter": "python",
   "pygments_lexer": "ipython3",
   "version": "3.9.7"
  }
 },
 "nbformat": 4,
 "nbformat_minor": 5
}
